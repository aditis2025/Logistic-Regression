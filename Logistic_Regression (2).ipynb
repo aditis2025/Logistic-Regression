{
  "nbformat": 4,
  "nbformat_minor": 0,
  "metadata": {
    "colab": {
      "provenance": []
    },
    "kernelspec": {
      "name": "python3",
      "display_name": "Python 3"
    },
    "language_info": {
      "name": "python"
    }
  },
  "cells": [
    {
      "cell_type": "markdown",
      "source": [
        "Theoretical"
      ],
      "metadata": {
        "id": "7NGtifOkrOkE"
      }
    },
    {
      "cell_type": "markdown",
      "source": [
        "1. What is Logistic Regression, and how does it differ from Linear Regression?  \n",
        "   Logistic Regression is a supervised machine learning algorithm used for classification problems. Despite its name, it's used to predict categorical outcomes, typically binary outcomes like: yes/no, 1 or 0, span or not, Disease/No Disease.  \n",
        "   How it Works:  \n",
        "   1- Logistic Regression predicts the probability that a given input point belongs to a certain class.  \n",
        "   2- It uses the logistic (sigmoid) function to map predicted values to a range between 0 and 1.  \n",
        "\n",
        "   Linear Regression vs Logistic Regression:  \n",
        "   Logistic Regression and Linear Regression are both supervised learning algorithms, but they serve different purposes. Linear Regression is used for regression problems, where the goal is to predict a continuous numerical value—such as predicting house prices, temperature, or sales. It models the relationship between input variables and a continuous output using a straight-line equation. On the other hand, Logistic Regression is used for classification problems, where the output is categorical, typically binary like yes/no, 0/1, or spam/not spam. Instead of predicting a numeric value directly, Logistic Regression predicts the probability of the input belonging to a particular class. It uses the sigmoid function to map the output between 0 and 1, making it suitable for classification tasks. While Linear Regression uses Mean Squared Error as its loss function, Logistic Regression uses Log Loss (Cross-Entropy Loss). In short, Linear Regression answers \"how much\" and Logistic Regression answers \"which category.\""
      ],
      "metadata": {
        "id": "p8_--ZVhsFTB"
      }
    },
    {
      "cell_type": "markdown",
      "source": [
        "2. What is the mathematical equation of Logistic Regression?  \n",
        "   The mathematical equation of Logistic Regression is based on the sigmoid (logistic) function, which transforms a linear combination of input features into a probability value between 0 and 1.  \n",
        "   Logistic (Sigmoid) Function The core of logistic regression is the sigmoid function: 𝜎 ( 𝑧 ) = 1 1 + 𝑒 − 𝑧 σ(z)= 1+e −z  \n",
        "   This function maps any real-valued number to the range ( 0 , 1 ) (0,1), which can be interpreted as a probability.  "
      ],
      "metadata": {
        "id": "rwZI8t7XsFQx"
      }
    },
    {
      "cell_type": "markdown",
      "source": [
        "3. Why do we use the Sigmoid function in Logistic Regression?  \n",
        "   We use the sigmoid function in Logistic Regression because it converts any real-valued number into a value between 0 and 1, which can be interpreted as a probability. This is essential for classification tasks where the output needs to represent the likelihood of an input belonging to a certain class.  \n",
        "   Reasons for using the sigmoid function:   \n",
        "   1- Probability Output: Logistic Regression is used to predict the probability that an input belongs to the positive class. The sigmoid function outputs values between 0 and 1, making it perfect for modeling probabilities.  \n",
        "   2- Smooth Gradient: The sigmoid function is differentiable and has a smooth gradient, which helps in optimizing the model using gradient descent.  \n",
        "   3- Thresholding: Since the output is between 0 and 1, we can easily apply a decision threshold (like 0.5) to convert probabilities into binary class labels (0 or 1).  \n",
        "   4- Handles Extreme Values: Even if the linear combination z=b0+b1x1+...+bnxn is very large or very small, the sigmoid function will always keep the output bounded between 0 and 1."
      ],
      "metadata": {
        "id": "5denmgOmsFOv"
      }
    },
    {
      "cell_type": "markdown",
      "source": [
        "4. What is the cost function of Logistic Regression?  \n",
        "   The cost function of Logistic Regression is based on the log loss, also known as the binary cross-entropy loss. It measures how well the predicted probabilities match the actual class labels (0 or 1).  \n",
        "   \n",
        "   Why a different cost function than Linear Regression--\n",
        "   In Linear Regression, we use Mean Squared Error (MSE). But in Logistic Regression, MSE doesn't work well because:  \n",
        "   - The sigmoid output is non-linear.  \n",
        "   - MSE would lead to a non-convex cost function, which is harder to optimize.  \n",
        "   - We want to penalize wrong predictions more strongly, especially when the predicted probability is far from the true label.  \n",
        "\n",
        "   Cost Function for a Single Training Example:  \n",
        "     y∈{0,1}: actual label  \n",
        "     𝑦^: predicted probability (output of sigmoid)   \n",
        "\n",
        "     Cost(y^​,y)=−[y⋅log(y^​)+(1−y)⋅log(1− y^)]\n"
      ],
      "metadata": {
        "id": "0mmeaNlWsFM7"
      }
    },
    {
      "cell_type": "markdown",
      "source": [
        "5. What is Regularization in Logistic Regression? Why is it needed?  \n",
        "   Regularization in Logistic Regression is a technique used to prevent overfitting by adding a penalty term to the cost function. Overfitting happens when the model learns the training data too well, including noise and irrelevant patterns, which hurts performance on unseen data.  \n",
        "\n",
        "   Why is Regularization Needed--   \n",
        "   a) Prevents Overfitting: When a model has too many features or is too complex, it can overfit. Regularization discourages the model from assigning large weights to features, making it simpler and more generalizable.  \n",
        "   b) Improves Generalization: A model with regularization focuses more on relevant features, helping it perform better on new data.  \n",
        "   c) Controls Model Complexity: By shrinking the coefficients, it prevents the model from relying too heavily on any single feature."
      ],
      "metadata": {
        "id": "O5Oeix_hsFKX"
      }
    },
    {
      "cell_type": "markdown",
      "source": [
        "6. Explain the difference between Lasso, Ridge, and Elastic Net regression.  \n",
        "   Ridge Regression (L2 Regularization)-- λj=1∑nθj2  \n",
        "   * Adds the squared magnitude of coefficients to the loss function.  \n",
        "   * Shrinks coefficients towards zero but never exactly zero.  \n",
        "   * Use case: When you have many features, and all of them are somewhat useful.  \n",
        "   Pros: Works well when all input features contribute a little. Keeps all variables in the model.  \n",
        "   Cons: Doesn’t perform feature selection (doesn’t eliminate irrelevant features).  \n",
        "\n",
        "   Lasso Regression (L1 Regularization)-- λj=1∑n​∣θj∣  \n",
        "   * Adds the absolute value of coefficients to the loss function.  \n",
        "   * Can shrink some coefficients to exactly zero, effectively removing those features.  \n",
        "   * Use case: When you expect that only a few features are important.  \n",
        "   Pros:Performs automatic feature selection. Produces sparse models (with fewer variables).  \n",
        "   Cons: Can behave unpredictably when features are highly correlated.  \n",
        "\n",
        "   Elastic Net Regression (Combination of L1 and L2)-- λ1​j=1∑n∣θj∣+λ2​j=1∑nθj2  \n",
        "   * Combines both Lasso (L1) and Ridge (L2) regularization.  \n",
        "   * Balances sparsity (from Lasso) and stability (from Ridge).  \n",
        "   * Use case: When you have many correlated features or a mix of relevant and irrelevant ones.  \n",
        "   Pros: Handles multicollinearity better than Lasso. Performs feature selection and coefficient shrinkage together.  \n",
        "   Cons: Requires tuning two hyperparameters:\n",
        "𝜆\n",
        "1\n",
        "​\n",
        "  and\n",
        "𝜆\n",
        "2\n",
        "​\n",
        "\n"
      ],
      "metadata": {
        "id": "r71bmZldsFIP"
      }
    },
    {
      "cell_type": "markdown",
      "source": [
        "7. When should we use Elastic Net instead of Lasso or Ridge?  \n",
        "   You should use Elastic Net instead of Lasso or Ridge when you face situations where both feature selection and model stability are important, especially when your data has the following characteristics:  \n",
        "\n",
        "   a) When Features Are Highly Correlated (Multicollinearity): Lasso tends to randomly select one feature from a group of correlated ones and ignore the rest. Ridge keeps all of them but doesn't perform feature selection. Elastic Net handles this better by combining both—selects groups of correlated features together while also regularizing them.  \n",
        "\n",
        "   b) When You Have Many Features and Only Some Are Important: Like Lasso, Elastic Net can set irrelevant feature coefficients to zero (sparsity). But unlike Lasso, it doesn’t become unstable when the number of predictors p > n (more features than data points).  \n",
        "\n",
        "   c) When Lasso Is Too Aggressive: Lasso can eliminate too many features, especially when features are correlated or the penalty is strong. Elastic Net offers a balance between zeroing out features (like Lasso) and shrinking them (like Ridge).  \n",
        "\n",
        "   d) For High-Dimensional Data (e.g., text, genomics): Especially useful when you have thousands of predictors and need a model that can both select features and remain robust."
      ],
      "metadata": {
        "id": "jxjQ6xqlsFFv"
      }
    },
    {
      "cell_type": "markdown",
      "source": [
        "8. What is the impact of the regularization parameter (λ) in Logistic Regression?  \n",
        "   The regularization parameter 𝜆 λ (often denoted as C in scikit-learn, where 𝐶 = 1 𝜆 C= λ 1​) in Logistic Regression controls the amount of regularization applied to the model. Regularization is a technique used to prevent overfitting by penalizing large coefficients in the model.  \n",
        "   Impact of λ in Logistic Regression:  \n",
        "   1. Small λ (near 0): Very little regularization  \n",
        "   Model behaves almost like standard Logistic Regression without penalty  \n",
        "   Coefficients can become large, possibly leading to overfitting  \n",
        "   Model fits training data very well but may generalize poorly  \n",
        "\n",
        "   2. Large λ (high value): Strong regularization  \n",
        "   Model heavily penalizes large coefficients → shrinks them toward zero  \n",
        "   Helps prevent overfitting but can lead to underfitting if too strong  \n",
        "   May discard some features' contributions entirely (especially with L1 regularization)\n",
        "\n"
      ],
      "metadata": {
        "id": "sqS4H32HzqFp"
      }
    },
    {
      "cell_type": "markdown",
      "source": [
        "9. What are the key assumptions of Logistic Regression?  \n",
        "   Key Assumptions of Logistic Regression:  \n",
        "   1. Binary or Categorical Dependent Variable--  \n",
        "   The outcome (dependent variable) should be binary (e.g., 0/1, yes/no) for binary logistic regression.  \n",
        "   Multinomial or ordinal logistic regression can be used for multiclass problems.  \n",
        "\n",
        "   2. Independence of Observations--\n",
        "   Each observation (row in the dataset) should be independent of others.  \n",
        "   No duplicate or related data points (e.g., repeated measures) unless using advanced models like mixed-effects logistic regression.  \n",
        "\n",
        "   3. Linearity of Logit (Not of the Outcome)--  \n",
        "   Logistic Regression assumes that the log-odds (logit) of the dependent variable is a linear combination of the independent variables.  \n",
        "   It does not assume a linear relationship between predictors and the actual outcome (0 or 1).\n",
        "\n"
      ],
      "metadata": {
        "id": "RICPbvHj0VLl"
      }
    },
    {
      "cell_type": "markdown",
      "source": [
        "10. What are some alternatives to Logistic Regression for classification tasks?  \n",
        "   There are several powerful alternatives to Logistic Regression for classification tasks, each with its strengths depending on your data size, complexity, interpretability needs, and performance goals.  \n",
        "\n",
        "   a) Decision Tree Classifier- Splits the data based on feature thresholds in a tree structure.  \n",
        "   Easy to interpret, handles non-linear relationships, no need to scale data.  \n",
        "   Cons: Prone to overfitting without pruning or regularization.  \n",
        "\n",
        "   b) Random Forest Classifier- An ensemble of decision trees; outputs the majority vote.  \n",
        "   Pros: High accuracy, robust to overfitting, handles missing values and unscaled data.  \n",
        "   Cons: Less interpretable, slower for large datasets.  \n",
        "\n",
        "   c) Support Vector Machine (SVM)- Finds the hyperplane that best separates classes in high-dimensional space.  \n",
        "   Pros: Great for high-dimensional and non-linear data (using kernels).  \n",
        "   Cons: Slower on large datasets, harder to tune, less interpretable.  \n",
        "\n",
        "   d) K-Nearest Neighbors (KNN)- Classifies based on the majority class of nearest neighbors.  \n",
        "   Pros: Simple and intuitive, no training phase.  \n",
        "   Cons: Slow prediction time, sensitive to outliers and irrelevant features.  \n",
        "\n",
        "   e) Naive Bayes- Applies Bayes' theorem with an assumption of feature independence.  \n",
        "   Pros: Very fast, works well with text classification (e.g., spam detection).  \n",
        "   Cons: Assumes independence, which rarely holds true in real-world data.  \n",
        "\n",
        "   f) Gradient Boosting Machines (e.g., XGBoost, LightGBM, CatBoost)  \n",
        "   Builds models sequentially, where each one corrects the errors of the previous.  \n",
        "   Pros: Very accurate, handles missing data, works well with large and complex datasets.    \n",
        "   Cons: Requires careful tuning, less interpretable, longer training time.  \n",
        "\n",
        "   g) Neural Networks (Deep Learning)- Learns patterns through layers of interconnected nodes (neurons).  \n",
        "   Pros: Handles complex and non-linear data, especially for image, text, or audio.    \n",
        "   Cons: Requires lots of data and compute, difficult to interpret.\n",
        "\n",
        "\n",
        "\n",
        "\n",
        "\n"
      ],
      "metadata": {
        "id": "Am5pWnGQD5_w"
      }
    },
    {
      "cell_type": "markdown",
      "source": [
        "11. What are Classification Evaluation Metrics?  \n",
        "    Classification evaluation metrics are methods used to measure how well a classification model performs. They help you understand how accurately the model predicts the correct class labels. Since classification problems involve assigning inputs into categories, these metrics evaluate the quality of those predictions compared to the actual labels.\n",
        "\n",
        "   Here are some of the key classification evaluation metrics:\n",
        "\n",
        "   Accuracy Definition: The ratio of correctly predicted instances to the total instances. Formula:\n",
        "\n",
        "   Accuracy = Number of correct predictions Total number of predictions Accuracy= Total number of predictions Number of correct predictions​\n",
        "\n",
        "   When to use: Good when classes are balanced.\n",
        "\n",
        "   Precision Definition: The ratio of correctly predicted positive observations to the total predicted positives. Formula:\n",
        "\n",
        "   Precision = 𝑇 𝑃 𝑇 𝑃 + 𝐹 𝑃 Precision= TP+FP TP​\n",
        "\n",
        "   Meaning: How many selected items are relevant.\n",
        "\n",
        "   Use case: Important when the cost of false positives is high.\n",
        "\n",
        "   Recall (Sensitivity or True Positive Rate) Definition: The ratio of correctly predicted positive observations to all actual positives. Formula:\n",
        "\n",
        "   Recall = 𝑇 𝑃 𝑇 𝑃 + 𝐹 𝑁 Recall= TP+FN TP​\n",
        "\n",
        "   Meaning: How many relevant items are selected.\n",
        "\n",
        "  Use case: Important when the cost of false negatives is high.\n",
        "\n",
        "  F1 Score Definition: The harmonic mean of Precision and Recall. Formula:\n",
        "\n",
        "  𝐹 1 = 2 × Precision × Recall Precision + Recall F1=2× Precision+Recall Precision×Recall​\n",
        "\n",
        "  Meaning: Balance between Precision and Recall.\n",
        "\n",
        "  Use case: Useful when you want to balance false positives and false negatives.\n",
        "\n",
        "  Confusion Matrix A table showing the counts of true positives (TP), true negatives (TN), false positives (FP), and false negatives (FN). Predicted Positive Predicted Negative Actual Positive TP FN Actual Negative FP TN  \n",
        "  Specificity (True Negative Rate) Definition: The ratio of correctly predicted negatives to all actual negatives. Formula:\n",
        "\n",
        "  Specificity = 𝑇 𝑁 𝑇 𝑁 + 𝐹 𝑃 Specificity= TN+FP TN​\n",
        "\n",
        "  ROC Curve and AUC (Area Under the Curve) ROC Curve: Plots True Positive Rate (Recall) vs. False Positive Rate. AUC: Measures the entire two-dimensional area underneath the ROC curve. A higher AUC indicates better performance."
      ],
      "metadata": {
        "id": "x5_r47G0FazQ"
      }
    },
    {
      "cell_type": "markdown",
      "source": [
        "12. How does class imbalance affect Logistic Regression?  \n",
        "    Class imbalance in Logistic Regression leads to biased predictions toward the majority class. The model may achieve high accuracy by mostly predicting the dominant class, but it performs poorly on the minority class, resulting in low recall and high false negatives. This is critical in applications like fraud or disease detection. Accuracy becomes a misleading metric in such cases. Instead, use metrics like F1-score, Precision, Recall, and ROC-AUC. To fix this, you can use class_weight='balanced' in Logistic Regression, or apply oversampling (e.g., SMOTE) or undersampling. These techniques help the model learn from both classes effectively.\n",
        "  \n",
        "    "
      ],
      "metadata": {
        "id": "u7VIuPI9GJ14"
      }
    },
    {
      "cell_type": "markdown",
      "source": [
        "13. What is Hyperparameter Tuning in Logistic Regression?  \n",
        "    Hyperparameter tuning in Logistic Regression refers to the process of selecting the best values for model parameters that are not learned during training, but instead set before training to control how the model learns.  \n",
        "\n",
        "    Key Hyperparameters in Logistic Regression:  \n",
        "    1. C (Inverse of Regularization Strength)-  \n",
        "    Controls how much regularization is applied.  \n",
        "    Smaller C = stronger regularization, larger C = weaker regularization  \n",
        "    Helps balance overfitting and underfitting  \n",
        "\n",
        "    2. Penalty-   \n",
        "    Type of regularization to apply: 'l1', 'l2', 'elasticnet', or 'none'  \n",
        "    'l1' encourages sparsity; 'l2' shrinks coefficients smoothly  \n",
        "\n",
        "    3. Solver-   \n",
        "    Optimization algorithm: 'liblinear', 'saga', 'lbfgs', etc.  \n",
        "    Some solvers support specific penalties (e.g., 'liblinear' supports 'l1')\n",
        "\n"
      ],
      "metadata": {
        "id": "7ivcGlYpGf09"
      }
    },
    {
      "cell_type": "markdown",
      "source": [
        "14. What are different solvers in Logistic Regression? Which one should be used?  \n",
        "    In Logistic Regression, a solver is the algorithm used to optimize the cost function and find the best model parameters (weights). Different solvers work better for different types of data and regularization.  \n",
        "\n",
        "    Which Solver Should You Use--  \n",
        "     Use liblinear if: You have a small dataset, want to use L1 regularization, doing binary classification  \n",
        "\n",
        "     Use lbfgs if: You have a medium to large dataset, use L1, L2, or ElasticNet, data is sparse or high-dimensional (e.g., text)  \n",
        "\n",
        "     Use newton-cg or sag if: You're doing L2-regularized logistic regression, dealing with large datasets, faster convergence with certain numeric stability"
      ],
      "metadata": {
        "id": "vxdQo4GRG9vM"
      }
    },
    {
      "cell_type": "markdown",
      "source": [
        "15. How is Logistic Regression extended for multiclass classification?  \n",
        "    Logistic Regression is naturally a binary classifier, but it can be extended for multiclass classification using two main strategies:  \n",
        "\n",
        "    a) One-vs-Rest (OvR) / One-vs-All (OvA)- For k classes, train k binary classifiers.  \n",
        "    Each classifier predicts the probability of one class vs all others.  \n",
        "    During prediction, the class with the highest probability is selected.  \n",
        "    Pros: Simple, fast, works with any binary classifier  \n",
        "    Used by default in scikit-learn  \n",
        "\n",
        "    b) Multinomial Logistic Regression (Softmax Regression)- Directly models all classes at once using the softmax function.  \n",
        "    Computes the probability for each class simultaneously  \n",
        "    The class with the highest softmax probability is chosen.  \n",
        "    Pros: More efficient and consistent than OvR when classes are mutually exclusive  \n",
        "    Works only with certain solvers: 'lbfgs', 'newton-cg', 'sag', 'saga'  \n",
        "    Use in scikit-learn"
      ],
      "metadata": {
        "id": "6v_BJgZSINhB"
      }
    },
    {
      "cell_type": "markdown",
      "source": [
        "16. What are the advantages and disadvantages of Logistic Regression?   \n",
        "    Advantages of Logistic Regression:  \n",
        "    * Simple and Easy to Interpret  \n",
        "    * Fast to Train and Predict  \n",
        "    * Works Well with Linearly Separable Data  \n",
        "    * Outputs Probabilities  \n",
        "    * Less Prone to Overfitting  \n",
        "    * Can Be Regularized  \n",
        "\n",
        "    Disadvantages of Logistic Regression:  \n",
        "    * Assumes Linear Relationship (in log-odds)  \n",
        "    * Not Suitable for Complex or Large Feature Interactions  \n",
        "    * Sensitive to Outliers  \n",
        "    * Requires Feature Engineering  \n",
        "    * Poor Performance on Imbalanced Data  \n",
        "    * Limited to Binary Classification (without extension)\n",
        "\n",
        "\n"
      ],
      "metadata": {
        "id": "92giizzRJB6_"
      }
    },
    {
      "cell_type": "markdown",
      "source": [
        "17. What are some use cases of Logistic Regression?  \n",
        "    Logistic Regression is widely used for binary and multiclass classification tasks across various domains because of its simplicity, interpretability, and efficiency.  \n",
        "    1. Medical Diagnosis (Predict whether a patient has a disease (Yes/No) based on symptoms or test results.)  \n",
        "    2. Credit Scoring & Risk Assessment (Classify whether a loan applicant is likely to default or not.)  \n",
        "    3. Email Spam Detection (Classify emails as spam or not spam based on content and metadata.)  \n",
        "    4. Customer Churn Prediction (Predict whether a customer is likely to leave (churn) or stay.)  \n",
        "    5. Marketing Campaign Response (Predict if a customer will respond positively or negatively to a marketing offer.)  \n",
        "    6. Fraud Detection (Detect whether a transaction is fraudulent or legitimate.)  \n",
        "    7. Employee Attrition Prediction (Predict whether an employee is likely to resign based on work history.)"
      ],
      "metadata": {
        "id": "yfY0TWoWJs77"
      }
    },
    {
      "cell_type": "markdown",
      "source": [
        "18. What is the difference between Softmax Regression and Logistic Regression?  \n",
        "    Logistic Regression and Softmax Regression are both classification algorithms based on the same core idea, but they differ in their use cases and output behavior. Logistic Regression is specifically designed for binary classification problems, where the target variable has only two possible classes (e.g., 0 or 1). It uses the sigmoid function to output a probability between 0 and 1, indicating the likelihood that a given input belongs to the positive class. The model has a single output unit, and the decision is made by applying a threshold (commonly 0.5) to the predicted probability.   \n",
        "    In contrast, Softmax Regression (also called Multinomial Logistic Regression) is used for multiclass classification problems, where the target variable has three or more mutually exclusive classes. Instead of a sigmoid, it uses the softmax function, which outputs a probability distribution over all classes, ensuring that the probabilities sum to 1. The class with the highest probability is chosen as the prediction. Unlike Logistic Regression, Softmax Regression has one output unit per class and considers all classes simultaneously during training."
      ],
      "metadata": {
        "id": "icyQJ1nMKcc9"
      }
    },
    {
      "cell_type": "markdown",
      "source": [
        "19. How do we choose between One-vs-Rest (OvR) and Softmax for multiclass classification?  \n",
        "    Choosing between One-vs-Rest (OvR) and Softmax (Multinomial Logistic Regression) for multiclass classification depends on your data size, class relationships, and model requirements.  \n",
        "\n",
        "    Use One-vs-Rest (OvR) when:  \n",
        "    Your dataset is small or sparse.  \n",
        "    You prefer simplicity and interpretability.  \n",
        "    You want to use binary classifiers for each class (e.g., with liblinear solver).  \n",
        "    Classes are not strongly interrelated or mutually exclusive.   \n",
        "    You want flexibility — OvR works with any binary classification algorithm.  \n",
        "\n",
        "    Use Softmax (Multinomial Logistic Regression) when:  \n",
        "    Classes are mutually exclusive (only one class can be correct per sample).  \n",
        "    You have a moderate to large dataset.  \n",
        "    You want a single unified model that handles all classes together.  \n",
        "    You want probability outputs across all classes, not just one-vs-rest.  \n",
        "    You’re using solvers like 'lbfgs', 'saga', or 'newton-cg' that support multi_class='multinomial'."
      ],
      "metadata": {
        "id": "H24FrcapKz09"
      }
    },
    {
      "cell_type": "markdown",
      "source": [
        "20. How do we interpret coefficients in Logistic Regression?  \n",
        "    Interpreting coefficients in Logistic Regression is different from Linear Regression because the model predicts log-odds, not raw values. Here's how to understand them clearly:  \n",
        "\n",
        "     1. Coefficients Represent Log-Odds- Each coefficient 𝛽𝑗\n",
        "     in Logistic Regression shows how much the log-odds of the outcome change with a one-unit increase in the corresponding feature 𝑥𝑗, keeping all other features constant.  \n",
        "\n",
        "     2. From Log-Odds to Odds Ratio- To interpret more intuitively, exponentiate the coefficient: Odds Ratio=eβ\n",
        "  \n",
        "     3. Sign of the Coefficient- Positive coefficient (β>0): Increases the log-odds → increases probability of the positive class.  \n",
        "     Negative coefficient (β<0): Decreases the log-odds → decreases probability of the positive class.  \n",
        "\n",
        "     4. Example Interpretation- Suppose you have a coefficient 𝛽=0.7  \n",
        "     Log-odds increase by 0.7 for a one-unit increase in the feature.  \n",
        "     Odds ratio  \n",
        "     The odds of the outcome double for every unit increase in that feature.\n",
        "\n"
      ],
      "metadata": {
        "id": "D1Ow2K02LbYD"
      }
    },
    {
      "cell_type": "markdown",
      "source": [
        "Practical"
      ],
      "metadata": {
        "id": "GDnwbqAoMd2Y"
      }
    },
    {
      "cell_type": "code",
      "source": [
        "#1 Write a Python program that loads a dataset, splits it into training and testing sets, applies Logistic Regression, and prints the model accuracy\n",
        "from sklearn.datasets import load_iris\n",
        "from sklearn.linear_model import LogisticRegression\n",
        "from sklearn.model_selection import train_test_split\n",
        "from sklearn.metrics import accuracy_score\n",
        "\n",
        "# Step 1: Load the dataset\n",
        "iris = load_iris()\n",
        "X = iris.data\n",
        "y = iris.target\n",
        "\n",
        "# Convert to binary classification (e.g., class 0 vs not class 0)\n",
        "y_binary = (y == 0).astype(int)\n",
        "\n",
        "# Step 2: Split into train and test sets\n",
        "X_train, X_test, y_train, y_test = train_test_split(X, y_binary, test_size=0.2, random_state=42)\n",
        "\n",
        "# Step 3: Create and train the Logistic Regression model\n",
        "model = LogisticRegression()\n",
        "model.fit(X_train, y_train)\n",
        "\n",
        "# Step 4: Predict and evaluate\n",
        "y_pred = model.predict(X_test)\n",
        "accuracy = accuracy_score(y_test, y_pred)\n",
        "\n",
        "# Step 5: Print accuracy\n",
        "print(f\"Model Accuracy: {accuracy:.2f}\")\n"
      ],
      "metadata": {
        "colab": {
          "base_uri": "https://localhost:8080/"
        },
        "id": "niA5Dw0dMf7y",
        "outputId": "6b32cb24-8fc3-4856-d56d-f9177ebae770"
      },
      "execution_count": null,
      "outputs": [
        {
          "output_type": "stream",
          "name": "stdout",
          "text": [
            "Model Accuracy: 1.00\n"
          ]
        }
      ]
    },
    {
      "cell_type": "code",
      "source": [
        "#2 Write a Python program to apply L1 regularization (Lasso) on a dataset using LogisticRegression(penalty='l1') and print the model accuracy\n",
        "from sklearn.datasets import load_breast_cancer\n",
        "from sklearn.linear_model import LogisticRegression\n",
        "from sklearn.model_selection import train_test_split\n",
        "from sklearn.metrics import accuracy_score\n",
        "\n",
        "# Step 1: Load the dataset\n",
        "data = load_breast_cancer()\n",
        "X = data.data\n",
        "y = data.target\n",
        "\n",
        "# Step 2: Split into training and testing sets\n",
        "X_train, X_test, y_train, y_test = train_test_split(X, y, test_size=0.2, random_state=42)\n",
        "\n",
        "# Step 3: Apply Logistic Regression with L1 regularization\n",
        "model = LogisticRegression(penalty='l1', solver='liblinear', C=1.0)  # 'liblinear' supports L1\n",
        "model.fit(X_train, y_train)\n",
        "\n",
        "# Step 4: Predict and evaluate\n",
        "y_pred = model.predict(X_test)\n",
        "accuracy = accuracy_score(y_test, y_pred)\n",
        "\n",
        "# Step 5: Print model accuracy\n",
        "print(f\"L1-Regularized Logistic Regression Accuracy: {accuracy:.2f}\")\n",
        "\n"
      ],
      "metadata": {
        "colab": {
          "base_uri": "https://localhost:8080/"
        },
        "id": "igaDGD37MvFz",
        "outputId": "865395cc-214d-4103-aced-c6bc5b8ed2b9"
      },
      "execution_count": null,
      "outputs": [
        {
          "output_type": "stream",
          "name": "stdout",
          "text": [
            "L1-Regularized Logistic Regression Accuracy: 0.96\n"
          ]
        },
        {
          "output_type": "stream",
          "name": "stderr",
          "text": [
            "/usr/local/lib/python3.11/dist-packages/sklearn/svm/_base.py:1249: ConvergenceWarning: Liblinear failed to converge, increase the number of iterations.\n",
            "  warnings.warn(\n"
          ]
        }
      ]
    },
    {
      "cell_type": "code",
      "source": [
        "#3 Write a Python program to train Logistic Regression with L2 regularization (Ridge) using LogisticRegression(penalty='l2'). Print model accuracy and coefficients\n",
        "from sklearn.datasets import load_breast_cancer\n",
        "from sklearn.linear_model import LogisticRegression\n",
        "from sklearn.model_selection import train_test_split\n",
        "from sklearn.metrics import accuracy_score\n",
        "\n",
        "# Step 1: Load the dataset\n",
        "data = load_breast_cancer()\n",
        "X = data.data\n",
        "y = data.target\n",
        "\n",
        "# Step 2: Split into training and testing sets\n",
        "X_train, X_test, y_train, y_test = train_test_split(X, y, test_size=0.2, random_state=42)\n",
        "\n",
        "# Step 3: Apply Logistic Regression with L1 regularization\n",
        "model = LogisticRegression(penalty='l1', solver='liblinear', C=1.0)  # 'liblinear' supports L1\n",
        "model.fit(X_train, y_train)\n",
        "\n",
        "# Step 4: Predict and evaluate\n",
        "y_pred = model.predict(X_test)\n",
        "accuracy = accuracy_score(y_test, y_pred)\n",
        "\n",
        "# Step 5: Print model accuracy\n",
        "print(f\"L1-Regularized Logistic Regression Accuracy: {accuracy:.2f}\")\n"
      ],
      "metadata": {
        "colab": {
          "base_uri": "https://localhost:8080/"
        },
        "id": "FzaNbM1SNA42",
        "outputId": "4675d657-64a3-4855-fb9f-531ef5893e0e"
      },
      "execution_count": null,
      "outputs": [
        {
          "output_type": "stream",
          "name": "stdout",
          "text": [
            "L1-Regularized Logistic Regression Accuracy: 0.96\n"
          ]
        }
      ]
    },
    {
      "cell_type": "code",
      "source": [
        "#4 Write a Python program to train Logistic Regression with Elastic Net Regularization (penalty='elasticnet')\n",
        "from sklearn.datasets import load_breast_cancer\n",
        "from sklearn.linear_model import LogisticRegression\n",
        "from sklearn.model_selection import train_test_split\n",
        "from sklearn.metrics import accuracy_score\n",
        "from sklearn.preprocessing import StandardScaler\n",
        "\n",
        "# Step 1: Load dataset\n",
        "data = load_breast_cancer()\n",
        "X = data.data\n",
        "y = data.target\n",
        "\n",
        "# Step 2: Scale features (recommended for regularization)\n",
        "scaler = StandardScaler()\n",
        "X = scaler.fit_transform(X)\n",
        "\n",
        "# Step 3: Split into train and test sets\n",
        "X_train, X_test, y_train, y_test = train_test_split(X, y, test_size=0.2, random_state=42)\n",
        "\n",
        "# Step 4: Train Logistic Regression with Elastic Net\n",
        "model = LogisticRegression(\n",
        "    penalty='elasticnet',\n",
        "    solver='saga',          # 'saga' is required for elasticnet\n",
        "    l1_ratio=0.5,           # 0.5 means equal mix of L1 and L2 regularization\n",
        "    C=1.0,\n",
        "    max_iter=1000,\n",
        "    random_state=42\n",
        ")\n",
        "model.fit(X_train, y_train)\n",
        "\n",
        "# Step 5: Predict and evaluate\n",
        "y_pred = model.predict(X_test)\n",
        "accuracy = accuracy_score(y_test, y_pred)\n",
        "\n",
        "# Step 6: Print accuracy\n",
        "print(f\"Elastic Net Logistic Regression Accuracy: {accuracy:.2f}\")\n"
      ],
      "metadata": {
        "colab": {
          "base_uri": "https://localhost:8080/"
        },
        "id": "15iLGg6VNTyy",
        "outputId": "b31f818a-ba3c-4dd9-d58b-0c67f81c61d6"
      },
      "execution_count": null,
      "outputs": [
        {
          "output_type": "stream",
          "name": "stdout",
          "text": [
            "Elastic Net Logistic Regression Accuracy: 0.97\n"
          ]
        }
      ]
    },
    {
      "cell_type": "code",
      "source": [
        "#5 Write a Python program to train a Logistic Regression model for multiclass classification using multi_class='ovr'\n",
        "from sklearn.datasets import load_iris\n",
        "from sklearn.linear_model import LogisticRegression\n",
        "from sklearn.model_selection import train_test_split\n",
        "from sklearn.metrics import accuracy_score\n",
        "\n",
        "# Step 1: Load the Iris dataset (3-class classification)\n",
        "iris = load_iris()\n",
        "X = iris.data\n",
        "y = iris.target  # Classes: 0, 1, 2\n",
        "\n",
        "# Step 2: Split into train and test sets\n",
        "X_train, X_test, y_train, y_test = train_test_split(X, y, test_size=0.2, random_state=42)\n",
        "\n",
        "# Step 3: Train Logistic Regression with One-vs-Rest strategy\n",
        "model = LogisticRegression(multi_class='ovr', solver='liblinear', max_iter=200)\n",
        "model.fit(X_train, y_train)\n",
        "\n",
        "# Step 4: Predict and evaluate\n",
        "y_pred = model.predict(X_test)\n",
        "accuracy = accuracy_score(y_test, y_pred)\n",
        "\n",
        "# Step 5: Print accuracy\n",
        "print(f\"Multiclass Logistic Regression (OvR) Accuracy: {accuracy:.2f}\")\n"
      ],
      "metadata": {
        "colab": {
          "base_uri": "https://localhost:8080/"
        },
        "id": "nY7Dak0mNcNH",
        "outputId": "20400963-5f60-4491-cc8a-8f03ca1057ba"
      },
      "execution_count": null,
      "outputs": [
        {
          "output_type": "stream",
          "name": "stdout",
          "text": [
            "Multiclass Logistic Regression (OvR) Accuracy: 1.00\n"
          ]
        },
        {
          "output_type": "stream",
          "name": "stderr",
          "text": [
            "/usr/local/lib/python3.11/dist-packages/sklearn/linear_model/_logistic.py:1256: FutureWarning: 'multi_class' was deprecated in version 1.5 and will be removed in 1.7. Use OneVsRestClassifier(LogisticRegression(..)) instead. Leave it to its default value to avoid this warning.\n",
            "  warnings.warn(\n"
          ]
        }
      ]
    },
    {
      "cell_type": "code",
      "source": [
        "#6 Write a Python program to apply GridSearchCV to tune the hyperparameters (C and penalty) of Logistic Regression. Print the best parameters and accuracy\n",
        "from sklearn.datasets import load_breast_cancer\n",
        "from sklearn.linear_model import LogisticRegression\n",
        "from sklearn.model_selection import GridSearchCV, train_test_split\n",
        "from sklearn.metrics import accuracy_score\n",
        "\n",
        "# Step 1: Load dataset\n",
        "data = load_breast_cancer()\n",
        "X = data.data\n",
        "y = data.target\n",
        "\n",
        "# Step 2: Train-test split\n",
        "X_train, X_test, y_train, y_test = train_test_split(X, y, test_size=0.2, random_state=42)\n",
        "\n",
        "# Step 3: Define parameter grid\n",
        "param_grid = {\n",
        "    'C': [0.01, 0.1, 1, 10, 100],              # Regularization strength\n",
        "    'penalty': ['l1', 'l2'],                   # L1 (Lasso) or L2 (Ridge)\n",
        "    'solver': ['liblinear']                    # 'liblinear' supports both l1 and l2\n",
        "}\n",
        "\n",
        "# Step 4: Create model and apply GridSearchCV\n",
        "log_reg = LogisticRegression(max_iter=1000)\n",
        "grid = GridSearchCV(log_reg, param_grid, cv=5, scoring='accuracy')\n",
        "grid.fit(X_train, y_train)\n",
        "\n",
        "# Step 5: Predict and evaluate on test set\n",
        "y_pred = grid.best_estimator_.predict(X_test)\n",
        "accuracy = accuracy_score(y_test, y_pred)\n",
        "\n",
        "# Step 6: Print results\n",
        "print(\"Best Parameters:\", grid.best_params_)\n",
        "print(f\"Accuracy with Best Parameters: {accuracy:.2f}\")\n"
      ],
      "metadata": {
        "colab": {
          "base_uri": "https://localhost:8080/"
        },
        "id": "jOTZ2QIwNlgl",
        "outputId": "e5eb04da-8f31-4ace-90f7-14f2a7d7ad29"
      },
      "execution_count": null,
      "outputs": [
        {
          "output_type": "stream",
          "name": "stdout",
          "text": [
            "Best Parameters: {'C': 100, 'penalty': 'l1', 'solver': 'liblinear'}\n",
            "Accuracy with Best Parameters: 0.98\n"
          ]
        }
      ]
    },
    {
      "cell_type": "code",
      "source": [
        "#7 Write a Python program to evaluate Logistic Regression using Stratified K-Fold Cross-Validation. Print the average accuracy\n",
        "from sklearn.datasets import load_breast_cancer\n",
        "from sklearn.linear_model import LogisticRegression\n",
        "from sklearn.model_selection import StratifiedKFold, cross_val_score\n",
        "import numpy as np\n",
        "\n",
        "# Step 1: Load dataset\n",
        "data = load_breast_cancer()\n",
        "X = data.data\n",
        "y = data.target\n",
        "\n",
        "# Step 2: Define Logistic Regression model\n",
        "model = LogisticRegression(solver='liblinear', max_iter=1000)\n",
        "\n",
        "# Step 3: Define Stratified K-Fold\n",
        "skf = StratifiedKFold(n_splits=5, shuffle=True, random_state=42)\n",
        "\n",
        "# Step 4: Evaluate using cross-validation\n",
        "scores = cross_val_score(model, X, y, cv=skf, scoring='accuracy')\n",
        "\n",
        "# Step 5: Print individual fold scores and average accuracy\n",
        "print(\"Accuracy for each fold:\", scores)\n",
        "print(f\"Average Accuracy: {np.mean(scores):.2f}\")\n"
      ],
      "metadata": {
        "colab": {
          "base_uri": "https://localhost:8080/"
        },
        "id": "TF0TF4OWNyIN",
        "outputId": "62704c58-9cf1-4650-d09d-dd112bf7e057"
      },
      "execution_count": null,
      "outputs": [
        {
          "output_type": "stream",
          "name": "stdout",
          "text": [
            "Accuracy for each fold: [0.94736842 0.92105263 0.95614035 0.96491228 0.96460177]\n",
            "Average Accuracy: 0.95\n"
          ]
        }
      ]
    },
    {
      "cell_type": "code",
      "source": [
        "#8  Write a Python program to load a dataset from a CSV file, apply Logistic Regression, and evaluate its accuracy\n",
        "import pandas as pd\n",
        "from sklearn.linear_model import LogisticRegression\n",
        "from sklearn.model_selection import train_test_split\n",
        "from sklearn.metrics import accuracy_score\n",
        "\n",
        "# Step 1: Load dataset from CSV\n",
        "df = pd.read_csv('your_dataset.csv')  # Replace with your actual CSV file path\n",
        "\n",
        "# Step 2: Separate features and target\n",
        "X = df.iloc[:, :-1]   # All columns except the last\n",
        "y = df.iloc[:, -1]    # Last column as target\n",
        "\n",
        "# Step 3: Split into train and test sets\n",
        "X_train, X_test, y_train, y_test = train_test_split(X, y, test_size=0.2, random_state=42)\n",
        "\n",
        "# Step 4: Train Logistic Regression model\n",
        "model = LogisticRegression(solver='liblinear', max_iter=1000)\n",
        "model.fit(X_train, y_train)\n",
        "\n",
        "# Step 5: Predict and evaluate\n",
        "y_pred = model.predict(X_test)\n",
        "accuracy = accuracy_score(y_test, y_pred)\n",
        "\n",
        "# Step 6: Print accuracy\n",
        "print(f\"Logistic Regression Accuracy: {accuracy:.2f}\")\n"
      ],
      "metadata": {
        "colab": {
          "base_uri": "https://localhost:8080/",
          "height": 356
        },
        "id": "Jvj0997ZN8eT",
        "outputId": "9ce59481-accc-4299-ca3f-dc0cd5dfd7de"
      },
      "execution_count": null,
      "outputs": [
        {
          "output_type": "error",
          "ename": "FileNotFoundError",
          "evalue": "[Errno 2] No such file or directory: 'your_dataset.csv'",
          "traceback": [
            "\u001b[0;31m---------------------------------------------------------------------------\u001b[0m",
            "\u001b[0;31mFileNotFoundError\u001b[0m                         Traceback (most recent call last)",
            "\u001b[0;32m/tmp/ipython-input-8-240499969.py\u001b[0m in \u001b[0;36m<cell line: 0>\u001b[0;34m()\u001b[0m\n\u001b[1;32m      6\u001b[0m \u001b[0;34m\u001b[0m\u001b[0m\n\u001b[1;32m      7\u001b[0m \u001b[0;31m# Step 1: Load dataset from CSV\u001b[0m\u001b[0;34m\u001b[0m\u001b[0;34m\u001b[0m\u001b[0m\n\u001b[0;32m----> 8\u001b[0;31m \u001b[0mdf\u001b[0m \u001b[0;34m=\u001b[0m \u001b[0mpd\u001b[0m\u001b[0;34m.\u001b[0m\u001b[0mread_csv\u001b[0m\u001b[0;34m(\u001b[0m\u001b[0;34m'your_dataset.csv'\u001b[0m\u001b[0;34m)\u001b[0m  \u001b[0;31m# Replace with your actual CSV file path\u001b[0m\u001b[0;34m\u001b[0m\u001b[0;34m\u001b[0m\u001b[0m\n\u001b[0m\u001b[1;32m      9\u001b[0m \u001b[0;34m\u001b[0m\u001b[0m\n\u001b[1;32m     10\u001b[0m \u001b[0;31m# Step 2: Separate features and target\u001b[0m\u001b[0;34m\u001b[0m\u001b[0;34m\u001b[0m\u001b[0m\n",
            "\u001b[0;32m/usr/local/lib/python3.11/dist-packages/pandas/io/parsers/readers.py\u001b[0m in \u001b[0;36mread_csv\u001b[0;34m(filepath_or_buffer, sep, delimiter, header, names, index_col, usecols, dtype, engine, converters, true_values, false_values, skipinitialspace, skiprows, skipfooter, nrows, na_values, keep_default_na, na_filter, verbose, skip_blank_lines, parse_dates, infer_datetime_format, keep_date_col, date_parser, date_format, dayfirst, cache_dates, iterator, chunksize, compression, thousands, decimal, lineterminator, quotechar, quoting, doublequote, escapechar, comment, encoding, encoding_errors, dialect, on_bad_lines, delim_whitespace, low_memory, memory_map, float_precision, storage_options, dtype_backend)\u001b[0m\n\u001b[1;32m   1024\u001b[0m     \u001b[0mkwds\u001b[0m\u001b[0;34m.\u001b[0m\u001b[0mupdate\u001b[0m\u001b[0;34m(\u001b[0m\u001b[0mkwds_defaults\u001b[0m\u001b[0;34m)\u001b[0m\u001b[0;34m\u001b[0m\u001b[0;34m\u001b[0m\u001b[0m\n\u001b[1;32m   1025\u001b[0m \u001b[0;34m\u001b[0m\u001b[0m\n\u001b[0;32m-> 1026\u001b[0;31m     \u001b[0;32mreturn\u001b[0m \u001b[0m_read\u001b[0m\u001b[0;34m(\u001b[0m\u001b[0mfilepath_or_buffer\u001b[0m\u001b[0;34m,\u001b[0m \u001b[0mkwds\u001b[0m\u001b[0;34m)\u001b[0m\u001b[0;34m\u001b[0m\u001b[0;34m\u001b[0m\u001b[0m\n\u001b[0m\u001b[1;32m   1027\u001b[0m \u001b[0;34m\u001b[0m\u001b[0m\n\u001b[1;32m   1028\u001b[0m \u001b[0;34m\u001b[0m\u001b[0m\n",
            "\u001b[0;32m/usr/local/lib/python3.11/dist-packages/pandas/io/parsers/readers.py\u001b[0m in \u001b[0;36m_read\u001b[0;34m(filepath_or_buffer, kwds)\u001b[0m\n\u001b[1;32m    618\u001b[0m \u001b[0;34m\u001b[0m\u001b[0m\n\u001b[1;32m    619\u001b[0m     \u001b[0;31m# Create the parser.\u001b[0m\u001b[0;34m\u001b[0m\u001b[0;34m\u001b[0m\u001b[0m\n\u001b[0;32m--> 620\u001b[0;31m     \u001b[0mparser\u001b[0m \u001b[0;34m=\u001b[0m \u001b[0mTextFileReader\u001b[0m\u001b[0;34m(\u001b[0m\u001b[0mfilepath_or_buffer\u001b[0m\u001b[0;34m,\u001b[0m \u001b[0;34m**\u001b[0m\u001b[0mkwds\u001b[0m\u001b[0;34m)\u001b[0m\u001b[0;34m\u001b[0m\u001b[0;34m\u001b[0m\u001b[0m\n\u001b[0m\u001b[1;32m    621\u001b[0m \u001b[0;34m\u001b[0m\u001b[0m\n\u001b[1;32m    622\u001b[0m     \u001b[0;32mif\u001b[0m \u001b[0mchunksize\u001b[0m \u001b[0;32mor\u001b[0m \u001b[0miterator\u001b[0m\u001b[0;34m:\u001b[0m\u001b[0;34m\u001b[0m\u001b[0;34m\u001b[0m\u001b[0m\n",
            "\u001b[0;32m/usr/local/lib/python3.11/dist-packages/pandas/io/parsers/readers.py\u001b[0m in \u001b[0;36m__init__\u001b[0;34m(self, f, engine, **kwds)\u001b[0m\n\u001b[1;32m   1618\u001b[0m \u001b[0;34m\u001b[0m\u001b[0m\n\u001b[1;32m   1619\u001b[0m         \u001b[0mself\u001b[0m\u001b[0;34m.\u001b[0m\u001b[0mhandles\u001b[0m\u001b[0;34m:\u001b[0m \u001b[0mIOHandles\u001b[0m \u001b[0;34m|\u001b[0m \u001b[0;32mNone\u001b[0m \u001b[0;34m=\u001b[0m \u001b[0;32mNone\u001b[0m\u001b[0;34m\u001b[0m\u001b[0;34m\u001b[0m\u001b[0m\n\u001b[0;32m-> 1620\u001b[0;31m         \u001b[0mself\u001b[0m\u001b[0;34m.\u001b[0m\u001b[0m_engine\u001b[0m \u001b[0;34m=\u001b[0m \u001b[0mself\u001b[0m\u001b[0;34m.\u001b[0m\u001b[0m_make_engine\u001b[0m\u001b[0;34m(\u001b[0m\u001b[0mf\u001b[0m\u001b[0;34m,\u001b[0m \u001b[0mself\u001b[0m\u001b[0;34m.\u001b[0m\u001b[0mengine\u001b[0m\u001b[0;34m)\u001b[0m\u001b[0;34m\u001b[0m\u001b[0;34m\u001b[0m\u001b[0m\n\u001b[0m\u001b[1;32m   1621\u001b[0m \u001b[0;34m\u001b[0m\u001b[0m\n\u001b[1;32m   1622\u001b[0m     \u001b[0;32mdef\u001b[0m \u001b[0mclose\u001b[0m\u001b[0;34m(\u001b[0m\u001b[0mself\u001b[0m\u001b[0;34m)\u001b[0m \u001b[0;34m->\u001b[0m \u001b[0;32mNone\u001b[0m\u001b[0;34m:\u001b[0m\u001b[0;34m\u001b[0m\u001b[0;34m\u001b[0m\u001b[0m\n",
            "\u001b[0;32m/usr/local/lib/python3.11/dist-packages/pandas/io/parsers/readers.py\u001b[0m in \u001b[0;36m_make_engine\u001b[0;34m(self, f, engine)\u001b[0m\n\u001b[1;32m   1878\u001b[0m                 \u001b[0;32mif\u001b[0m \u001b[0;34m\"b\"\u001b[0m \u001b[0;32mnot\u001b[0m \u001b[0;32min\u001b[0m \u001b[0mmode\u001b[0m\u001b[0;34m:\u001b[0m\u001b[0;34m\u001b[0m\u001b[0;34m\u001b[0m\u001b[0m\n\u001b[1;32m   1879\u001b[0m                     \u001b[0mmode\u001b[0m \u001b[0;34m+=\u001b[0m \u001b[0;34m\"b\"\u001b[0m\u001b[0;34m\u001b[0m\u001b[0;34m\u001b[0m\u001b[0m\n\u001b[0;32m-> 1880\u001b[0;31m             self.handles = get_handle(\n\u001b[0m\u001b[1;32m   1881\u001b[0m                 \u001b[0mf\u001b[0m\u001b[0;34m,\u001b[0m\u001b[0;34m\u001b[0m\u001b[0;34m\u001b[0m\u001b[0m\n\u001b[1;32m   1882\u001b[0m                 \u001b[0mmode\u001b[0m\u001b[0;34m,\u001b[0m\u001b[0;34m\u001b[0m\u001b[0;34m\u001b[0m\u001b[0m\n",
            "\u001b[0;32m/usr/local/lib/python3.11/dist-packages/pandas/io/common.py\u001b[0m in \u001b[0;36mget_handle\u001b[0;34m(path_or_buf, mode, encoding, compression, memory_map, is_text, errors, storage_options)\u001b[0m\n\u001b[1;32m    871\u001b[0m         \u001b[0;32mif\u001b[0m \u001b[0mioargs\u001b[0m\u001b[0;34m.\u001b[0m\u001b[0mencoding\u001b[0m \u001b[0;32mand\u001b[0m \u001b[0;34m\"b\"\u001b[0m \u001b[0;32mnot\u001b[0m \u001b[0;32min\u001b[0m \u001b[0mioargs\u001b[0m\u001b[0;34m.\u001b[0m\u001b[0mmode\u001b[0m\u001b[0;34m:\u001b[0m\u001b[0;34m\u001b[0m\u001b[0;34m\u001b[0m\u001b[0m\n\u001b[1;32m    872\u001b[0m             \u001b[0;31m# Encoding\u001b[0m\u001b[0;34m\u001b[0m\u001b[0;34m\u001b[0m\u001b[0m\n\u001b[0;32m--> 873\u001b[0;31m             handle = open(\n\u001b[0m\u001b[1;32m    874\u001b[0m                 \u001b[0mhandle\u001b[0m\u001b[0;34m,\u001b[0m\u001b[0;34m\u001b[0m\u001b[0;34m\u001b[0m\u001b[0m\n\u001b[1;32m    875\u001b[0m                 \u001b[0mioargs\u001b[0m\u001b[0;34m.\u001b[0m\u001b[0mmode\u001b[0m\u001b[0;34m,\u001b[0m\u001b[0;34m\u001b[0m\u001b[0;34m\u001b[0m\u001b[0m\n",
            "\u001b[0;31mFileNotFoundError\u001b[0m: [Errno 2] No such file or directory: 'your_dataset.csv'"
          ]
        }
      ]
    },
    {
      "cell_type": "code",
      "source": [
        "#9 Write a Python program to apply RandomizedSearchCV for tuning hyperparameters (C, penalty, solver) in Logistic Regression. Print the best parameters and accuracy\n",
        "import numpy as np\n",
        "from sklearn.datasets import load_breast_cancer\n",
        "from sklearn.linear_model import LogisticRegression\n",
        "from sklearn.model_selection import train_test_split, RandomizedSearchCV\n",
        "from sklearn.metrics import accuracy_score\n",
        "from scipy.stats import uniform\n",
        "\n",
        "# Step 1: Load dataset\n",
        "data = load_breast_cancer()\n",
        "X = data.data\n",
        "y = data.target\n",
        "\n",
        "# Step 2: Split into train/test sets\n",
        "X_train, X_test, y_train, y_test = train_test_split(X, y, test_size=0.2, random_state=42)\n",
        "\n",
        "# Step 3: Define parameter distributions\n",
        "param_distributions = {\n",
        "    'C': uniform(0.01, 10),                     # Random float values from 0.01 to 10\n",
        "    'penalty': ['l1', 'l2'],\n",
        "    'solver': ['liblinear', 'saga']\n",
        "}\n",
        "\n",
        "# Step 4: Define model\n",
        "model = LogisticRegression(max_iter=10000)\n",
        "\n",
        "# Step 5: Apply RandomizedSearchCV\n",
        "random_search = RandomizedSearchCV(\n",
        "    estimator=model,\n",
        "    param_distributions=param_distributions,\n",
        "    n_iter=20,\n",
        "    cv=5,\n",
        "    scoring='accuracy',\n",
        "    random_state=42\n",
        ")\n",
        "\n",
        "random_search.fit(X_train, y_train)\n",
        "\n",
        "# Step 6: Evaluate best model\n",
        "best_model = random_search.best_estimator_\n",
        "y_pred = best_model.predict(X_test)\n",
        "accuracy = accuracy_score(y_test, y_pred)\n",
        "\n",
        "# Step 7: Print results\n",
        "print(\"Best Parameters:\", random_search.best_params_)\n",
        "print(f\"Accuracy with Best Parameters: {accuracy:.2f}\")\n"
      ],
      "metadata": {
        "colab": {
          "base_uri": "https://localhost:8080/"
        },
        "id": "AHsedjRnODiC",
        "outputId": "ca62f2cc-208f-4b00-c10d-253cc7149333"
      },
      "execution_count": null,
      "outputs": [
        {
          "output_type": "stream",
          "name": "stdout",
          "text": [
            "Best Parameters: {'C': np.float64(7.3299394181140505), 'penalty': 'l1', 'solver': 'liblinear'}\n",
            "Accuracy with Best Parameters: 0.97\n"
          ]
        }
      ]
    },
    {
      "cell_type": "code",
      "source": [
        "#10 Write a Python program to implement One-vs-One (OvO) Multiclass Logistic Regression and print accuracy\n",
        "from sklearn.datasets import load_iris\n",
        "from sklearn.linear_model import LogisticRegression\n",
        "from sklearn.multiclass import OneVsOneClassifier\n",
        "from sklearn.model_selection import train_test_split\n",
        "from sklearn.metrics import accuracy_score\n",
        "\n",
        "# Step 1: Load the Iris dataset\n",
        "iris = load_iris()\n",
        "X = iris.data\n",
        "y = iris.target\n",
        "\n",
        "# Step 2: Split into training and testing sets\n",
        "X_train, X_test, y_train, y_test = train_test_split(X, y, test_size=0.2, random_state=42)\n",
        "\n",
        "# Step 3: Create a One-vs-One classifier with Logistic Regression as base estimator\n",
        "ovo_model = OneVsOneClassifier(LogisticRegression(solver='liblinear', max_iter=1000))\n",
        "ovo_model.fit(X_train, y_train)\n",
        "\n",
        "# Step 4: Predict and evaluate accuracy\n",
        "y_pred = ovo_model.predict(X_test)\n",
        "accuracy = accuracy_score(y_test, y_pred)\n",
        "\n",
        "# Step 5: Print accuracy\n",
        "print(f\"One-vs-One Logistic Regression Accuracy: {accuracy:.2f}\")\n"
      ],
      "metadata": {
        "colab": {
          "base_uri": "https://localhost:8080/"
        },
        "id": "Grw9iLDNOVVi",
        "outputId": "f1cd72ab-eb28-4239-9269-c62bf23be842"
      },
      "execution_count": null,
      "outputs": [
        {
          "output_type": "stream",
          "name": "stdout",
          "text": [
            "One-vs-One Logistic Regression Accuracy: 1.00\n"
          ]
        }
      ]
    },
    {
      "cell_type": "code",
      "source": [
        "#11 Write a Python program to train a Logistic Regression model and visualize the confusion matrix for binary classification\n",
        "import matplotlib.pyplot as plt\n",
        "import seaborn as sns\n",
        "from sklearn.datasets import load_breast_cancer\n",
        "from sklearn.linear_model import LogisticRegression\n",
        "from sklearn.model_selection import train_test_split\n",
        "from sklearn.metrics import confusion_matrix, accuracy_score\n",
        "\n",
        "# Step 1: Load dataset\n",
        "data = load_breast_cancer()\n",
        "X = data.data\n",
        "y = data.target  # Binary: 0 (malignant), 1 (benign)\n",
        "\n",
        "# Step 2: Split into training and testing\n",
        "X_train, X_test, y_train, y_test = train_test_split(X, y, test_size=0.2, random_state=42)\n",
        "\n",
        "# Step 3: Train Logistic Regression model\n",
        "model = LogisticRegression(solver='liblinear', max_iter=1000)\n",
        "model.fit(X_train, y_train)\n",
        "\n",
        "# Step 4: Predict and evaluate\n",
        "y_pred = model.predict(X_test)\n",
        "accuracy = accuracy_score(y_test, y_pred)\n",
        "cm = confusion_matrix(y_test, y_pred)\n",
        "\n",
        "# Step 5: Plot confusion matrix\n",
        "plt.figure(figsize=(6,4))\n",
        "sns.heatmap(cm, annot=True, fmt='d', cmap='Blues',\n",
        "            xticklabels=['Malignant', 'Benign'],\n",
        "            yticklabels=['Malignant', 'Benign'])\n",
        "plt.xlabel('Predicted')\n",
        "plt.ylabel('Actual')\n",
        "plt.title(f'Confusion Matrix (Accuracy: {accuracy:.2f})')\n",
        "plt.tight_layout()\n",
        "plt.show()\n",
        "\n"
      ],
      "metadata": {
        "colab": {
          "base_uri": "https://localhost:8080/",
          "height": 407
        },
        "id": "uznKMSXmOduW",
        "outputId": "ead0279b-2989-46dd-e86a-309c5c37f7be"
      },
      "execution_count": null,
      "outputs": [
        {
          "output_type": "display_data",
          "data": {
            "text/plain": [
              "<Figure size 600x400 with 2 Axes>"
            ],
            "image/png": "[encoded data removed]"
          },
          "metadata": {}
        }
      ]
    },
    {
      "cell_type": "code",
      "source": [
        "#12 Write a Python program to train a Logistic Regression model and evaluate its performance using Precision, Recall, and F1-Score\n",
        "from sklearn.datasets import load_breast_cancer\n",
        "from sklearn.linear_model import LogisticRegression\n",
        "from sklearn.model_selection import train_test_split\n",
        "from sklearn.metrics import precision_score, recall_score, f1_score\n",
        "\n",
        "# Step 1: Load dataset\n",
        "data = load_breast_cancer()\n",
        "X = data.data\n",
        "y = data.target  # Binary target: 0 (malignant), 1 (benign)\n",
        "\n",
        "# Step 2: Split into train and test sets\n",
        "X_train, X_test, y_train, y_test = train_test_split(X, y, test_size=0.2, random_state=42)\n",
        "\n",
        "# Step 3: Train Logistic Regression model\n",
        "model = LogisticRegression(solver='liblinear', max_iter=1000)\n",
        "model.fit(X_train, y_train)\n",
        "\n",
        "# Step 4: Make predictions\n",
        "y_pred = model.predict(X_test)\n",
        "\n",
        "# Step 5: Evaluate performance\n",
        "precision = precision_score(y_test, y_pred)\n",
        "recall = recall_score(y_test, y_pred)\n",
        "f1 = f1_score(y_test, y_pred)\n",
        "\n",
        "# Step 6: Print results\n",
        "print(f\"Precision: {precision:.2f}\")\n",
        "print(f\"Recall:    {recall:.2f}\")\n",
        "print(f\"F1-Score:  {f1:.2f}\")\n"
      ],
      "metadata": {
        "colab": {
          "base_uri": "https://localhost:8080/"
        },
        "id": "VNlJ2CPcOpxM",
        "outputId": "087e755f-c11d-42a8-9257-e20476947a67"
      },
      "execution_count": null,
      "outputs": [
        {
          "output_type": "stream",
          "name": "stdout",
          "text": [
            "Precision: 0.95\n",
            "Recall:    0.99\n",
            "F1-Score:  0.97\n"
          ]
        }
      ]
    },
    {
      "cell_type": "code",
      "source": [
        "#13 Write a Python program to train a Logistic Regression model on imbalanced data and apply class weights to improve model performance\n",
        "from sklearn.datasets import make_classification\n",
        "from sklearn.linear_model import LogisticRegression\n",
        "from sklearn.model_selection import train_test_split\n",
        "from sklearn.metrics import classification_report, confusion_matrix\n",
        "import seaborn as sns\n",
        "import matplotlib.pyplot as plt\n",
        "\n",
        "# Step 1: Create an imbalanced binary classification dataset\n",
        "X, y = make_classification(n_samples=1000, n_features=10, n_informative=5,\n",
        "                           n_redundant=2, weights=[0.9, 0.1], random_state=42)\n",
        "\n",
        "# Step 2: Train-test split\n",
        "X_train, X_test, y_train, y_test = train_test_split(X, y, test_size=0.2, random_state=42)\n",
        "\n",
        "# Step 3: Train Logistic Regression WITHOUT class weights\n",
        "model_plain = LogisticRegression(solver='liblinear')\n",
        "model_plain.fit(X_train, y_train)\n",
        "y_pred_plain = model_plain.predict(X_test)\n",
        "\n",
        "print(\"\\n--- Without Class Weights ---\")\n",
        "print(classification_report(y_test, y_pred_plain))\n",
        "\n",
        "# Step 4: Train Logistic Regression WITH class weights\n",
        "model_weighted = LogisticRegression(solver='liblinear', class_weight='balanced')\n",
        "model_weighted.fit(X_train, y_train)\n",
        "y_pred_weighted = model_weighted.predict(X_test)\n",
        "\n",
        "print(\"\\n--- With Class Weights (Balanced) ---\")\n",
        "print(classification_report(y_test, y_pred_weighted))\n",
        "\n",
        "# Step 5: Plot confusion matrices\n",
        "fig, axs = plt.subplots(1, 2, figsize=(12, 5))\n",
        "\n",
        "# Plain model\n",
        "sns.heatmap(confusion_matrix(y_test, y_pred_plain), annot=True, fmt='d', cmap='Blues', ax=axs[0])\n",
        "axs[0].set_title(\"Without Class Weights\")\n",
        "axs[0].set_xlabel(\"Predicted\")\n",
        "axs[0].set_ylabel(\"Actual\")\n",
        "\n",
        "# Weighted model\n",
        "sns.heatmap(confusion_matrix(y_test, y_pred_weighted), annot=True, fmt='d', cmap='Greens', ax=axs[1])\n",
        "axs[1].set_title(\"With Class Weights\")\n",
        "axs[1].set_xlabel(\"Predicted\")\n",
        "axs[1].set_ylabel(\"Actual\")\n",
        "\n",
        "plt.tight_layout()\n",
        "plt.show()\n"
      ],
      "metadata": {
        "colab": {
          "base_uri": "https://localhost:8080/",
          "height": 889
        },
        "id": "SmUZ5GSIO-xZ",
        "outputId": "f95570f3-9504-4ff8-9059-8dc099cb784d"
      },
      "execution_count": null,
      "outputs": [
        {
          "output_type": "stream",
          "name": "stdout",
          "text": [
            "\n",
            "--- Without Class Weights ---\n",
            "              precision    recall  f1-score   support\n",
            "\n",
            "           0       0.92      0.99      0.95       179\n",
            "           1       0.83      0.24      0.37        21\n",
            "\n",
            "    accuracy                           0.92       200\n",
            "   macro avg       0.88      0.62      0.66       200\n",
            "weighted avg       0.91      0.92      0.89       200\n",
            "\n",
            "\n",
            "--- With Class Weights (Balanced) ---\n",
            "              precision    recall  f1-score   support\n",
            "\n",
            "           0       0.97      0.82      0.89       179\n",
            "           1       0.35      0.81      0.49        21\n",
            "\n",
            "    accuracy                           0.82       200\n",
            "   macro avg       0.66      0.82      0.69       200\n",
            "weighted avg       0.91      0.82      0.85       200\n",
            "\n"
          ]
        },
        {
          "output_type": "display_data",
          "data": {
            "text/plain": [
              "<Figure size 1200x500 with 4 Axes>"
            ],
            "image/png": "[encoded data removed]"
          },
          "metadata": {}
        }
      ]
    },
    {
      "cell_type": "code",
      "source": [
        "#14 Write a Python program to train Logistic Regression on the Titanic dataset, handle missing values, and evaluate performance\n",
        "import seaborn as sns\n",
        "import pandas as pd\n",
        "from sklearn.linear_model import LogisticRegression\n",
        "from sklearn.model_selection import train_test_split\n",
        "from sklearn.metrics import classification_report\n",
        "\n",
        "# Step 1: Load Titanic dataset\n",
        "titanic = sns.load_dataset('titanic')\n",
        "\n",
        "# Step 2: Select features and target\n",
        "df = titanic[['survived', 'pclass', 'sex', 'age', 'sibsp', 'parch', 'fare', 'embarked']]\n",
        "\n",
        "# Step 3: Handle missing values\n",
        "df.dropna(inplace=True)\n",
        "\n",
        "# Step 4: Convert categorical variables to numeric\n",
        "df['sex'] = df['sex'].map({'male': 0, 'female': 1})\n",
        "df['embarked'] = df['embarked'].map({'S': 0, 'C': 1, 'Q': 2})\n",
        "\n",
        "# Step 5: Split features and target\n",
        "X = df.drop('survived', axis=1)\n",
        "y = df['survived']\n",
        "\n",
        "# Step 6: Train-test split\n",
        "X_train, X_test, y_train, y_test = train_test_split(X, y, test_size=0.2, random_state=42)\n",
        "\n",
        "# Step 7: Train Logistic Regression model\n",
        "model = LogisticRegression(max_iter=1000)\n",
        "model.fit(X_train, y_train)\n",
        "\n",
        "# Step 8: Predict and evaluate\n",
        "y_pred = model.predict(X_test)\n",
        "print(classification_report(y_test, y_pred))\n"
      ],
      "metadata": {
        "colab": {
          "base_uri": "https://localhost:8080/"
        },
        "id": "yXn4V0FMPLS7",
        "outputId": "9c02ac9d-7238-45a4-ca8b-1b232be19fb3"
      },
      "execution_count": null,
      "outputs": [
        {
          "output_type": "stream",
          "name": "stderr",
          "text": [
            "/tmp/ipython-input-14-2785228476.py:15: SettingWithCopyWarning: \n",
            "A value is trying to be set on a copy of a slice from a DataFrame\n",
            "\n",
            "See the caveats in the documentation: https://pandas.pydata.org/pandas-docs/stable/user_guide/indexing.html#returning-a-view-versus-a-copy\n",
            "  df.dropna(inplace=True)\n",
            "/tmp/ipython-input-14-2785228476.py:18: SettingWithCopyWarning: \n",
            "A value is trying to be set on a copy of a slice from a DataFrame.\n",
            "Try using .loc[row_indexer,col_indexer] = value instead\n",
            "\n",
            "See the caveats in the documentation: https://pandas.pydata.org/pandas-docs/stable/user_guide/indexing.html#returning-a-view-versus-a-copy\n",
            "  df['sex'] = df['sex'].map({'male': 0, 'female': 1})\n",
            "/tmp/ipython-input-14-2785228476.py:19: SettingWithCopyWarning: \n",
            "A value is trying to be set on a copy of a slice from a DataFrame.\n",
            "Try using .loc[row_indexer,col_indexer] = value instead\n",
            "\n",
            "See the caveats in the documentation: https://pandas.pydata.org/pandas-docs/stable/user_guide/indexing.html#returning-a-view-versus-a-copy\n",
            "  df['embarked'] = df['embarked'].map({'S': 0, 'C': 1, 'Q': 2})\n"
          ]
        },
        {
          "output_type": "stream",
          "name": "stdout",
          "text": [
            "              precision    recall  f1-score   support\n",
            "\n",
            "           0       0.77      0.91      0.83        80\n",
            "           1       0.85      0.65      0.74        63\n",
            "\n",
            "    accuracy                           0.80       143\n",
            "   macro avg       0.81      0.78      0.79       143\n",
            "weighted avg       0.81      0.80      0.79       143\n",
            "\n"
          ]
        }
      ]
    },
    {
      "cell_type": "code",
      "source": [
        "#15 Write a Python program to apply feature scaling (Standardization) before training a Logistic Regression model. Evaluate its accuracy and compare results with and without scaling\n",
        "from sklearn.datasets import load_breast_cancer\n",
        "from sklearn.linear_model import LogisticRegression\n",
        "from sklearn.model_selection import train_test_split\n",
        "from sklearn.preprocessing import StandardScaler\n",
        "from sklearn.metrics import accuracy_score\n",
        "\n",
        "# Step 1: Load dataset\n",
        "data = load_breast_cancer()\n",
        "X = data.data\n",
        "y = data.target\n",
        "\n",
        "# Step 2: Split data into training and testing sets\n",
        "X_train, X_test, y_train, y_test = train_test_split(X, y, test_size=0.2, random_state=42)\n",
        "\n",
        "# ---------- Model WITHOUT Scaling ----------\n",
        "model_no_scaling = LogisticRegression(solver='liblinear', max_iter=1000)\n",
        "model_no_scaling.fit(X_train, y_train)\n",
        "y_pred_no_scaling = model_no_scaling.predict(X_test)\n",
        "accuracy_no_scaling = accuracy_score(y_test, y_pred_no_scaling)\n",
        "\n",
        "# ---------- Apply Standard Scaling ----------\n",
        "scaler = StandardScaler()\n",
        "X_train_scaled = scaler.fit_transform(X_train)\n",
        "X_test_scaled = scaler.transform(X_test)\n",
        "\n",
        "# ---------- Model WITH Scaling ----------\n",
        "model_scaled = LogisticRegression(solver='liblinear', max_iter=1000)\n",
        "model_scaled.fit(X_train_scaled, y_train)\n",
        "y_pred_scaled = model_scaled.predict(X_test_scaled)\n",
        "accuracy_scaled = accuracy_score(y_test, y_pred_scaled)\n",
        "\n",
        "# ---------- Results ----------\n",
        "print(f\"Accuracy WITHOUT Scaling: {accuracy_no_scaling:.2f}\")\n",
        "print(f\"Accuracy WITH Scaling   : {accuracy_scaled:.2f}\")\n"
      ],
      "metadata": {
        "colab": {
          "base_uri": "https://localhost:8080/"
        },
        "id": "GDNWdjfYPTzt",
        "outputId": "bbc00b59-41fa-4d48-93c9-2a3c7295e27d"
      },
      "execution_count": null,
      "outputs": [
        {
          "output_type": "stream",
          "name": "stdout",
          "text": [
            "Accuracy WITHOUT Scaling: 0.96\n",
            "Accuracy WITH Scaling   : 0.97\n"
          ]
        }
      ]
    },
    {
      "cell_type": "code",
      "source": [
        "#16 Write a Python program to train Logistic Regression and evaluate its performance using ROC-AUC score\n",
        "from sklearn.datasets import load_breast_cancer\n",
        "from sklearn.linear_model import LogisticRegression\n",
        "from sklearn.model_selection import train_test_split\n",
        "from sklearn.metrics import roc_auc_score, roc_curve\n",
        "import matplotlib.pyplot as plt\n",
        "\n",
        "# Step 1: Load the dataset\n",
        "data = load_breast_cancer()\n",
        "X = data.data\n",
        "y = data.target  # Binary: 0 = malignant, 1 = benign\n",
        "\n",
        "# Step 2: Train-test split\n",
        "X_train, X_test, y_train, y_test = train_test_split(X, y, test_size=0.2, random_state=42)\n",
        "\n",
        "# Step 3: Train Logistic Regression model\n",
        "model = LogisticRegression(solver='liblinear', max_iter=1000)\n",
        "model.fit(X_train, y_train)\n",
        "\n",
        "# Step 4: Predict probabilities\n",
        "y_prob = model.predict_proba(X_test)[:, 1]  # Probability for class 1\n",
        "\n",
        "# Step 5: Compute ROC-AUC score\n",
        "roc_auc = roc_auc_score(y_test, y_prob)\n",
        "print(f\"ROC-AUC Score: {roc_auc:.2f}\")\n",
        "\n",
        "# Step 6: Plot ROC Curve\n",
        "fpr, tpr, _ = roc_curve(y_test, y_prob)\n",
        "plt.figure(figsize=(6, 4))\n",
        "plt.plot(fpr, tpr, label=f'Logistic Regression (AUC = {roc_auc:.2f})')\n",
        "plt.plot([0, 1], [0, 1], linestyle='--', color='gray')  # Diagonal line\n",
        "plt.xlabel('False Positive Rate')\n",
        "plt.ylabel('True Positive Rate')\n",
        "plt.title('ROC Curve')\n",
        "plt.legend()\n",
        "plt.grid(True)\n",
        "plt.tight_layout()\n",
        "plt.show()\n"
      ],
      "metadata": {
        "colab": {
          "base_uri": "https://localhost:8080/",
          "height": 424
        },
        "id": "Ccpuew4iPfqF",
        "outputId": "ad4b9991-2e5f-4cdb-8394-9c4ce621b5f1"
      },
      "execution_count": null,
      "outputs": [
        {
          "output_type": "stream",
          "name": "stdout",
          "text": [
            "ROC-AUC Score: 1.00\n"
          ]
        },
        {
          "output_type": "display_data",
          "data": {
            "text/plain": [
              "<Figure size 600x400 with 1 Axes>"
            ],
            "image/png": "[encoded data removed]"
          },
          "metadata": {}
        }
      ]
    },
    {
      "cell_type": "code",
      "source": [
        "#17 Write a Python program to train Logistic Regression using a custom learning rate (C=0.5) and evaluate accuracy\n",
        "from sklearn.datasets import load_breast_cancer\n",
        "from sklearn.linear_model import LogisticRegression\n",
        "from sklearn.model_selection import train_test_split\n",
        "from sklearn.metrics import accuracy_score\n",
        "\n",
        "# Step 1: Load dataset\n",
        "data = load_breast_cancer()\n",
        "X = data.data\n",
        "y = data.target  # Binary classification\n",
        "\n",
        "# Step 2: Split into train and test sets\n",
        "X_train, X_test, y_train, y_test = train_test_split(X, y, test_size=0.2, random_state=42)\n",
        "\n",
        "# Step 3: Train Logistic Regression with custom regularization strength (C=0.5)\n",
        "model = LogisticRegression(C=0.5, solver='liblinear', max_iter=1000)\n",
        "model.fit(X_train, y_train)\n",
        "\n",
        "# Step 4: Predict and evaluate\n",
        "y_pred = model.predict(X_test)\n",
        "accuracy = accuracy_score(y_test, y_pred)\n",
        "\n",
        "# Step 5: Print accuracy\n",
        "print(f\"Accuracy with C=0.5: {accuracy:.2f}\")\n"
      ],
      "metadata": {
        "colab": {
          "base_uri": "https://localhost:8080/"
        },
        "id": "ACe_bxzePpr0",
        "outputId": "50f4d530-561c-45d6-8f28-f9b24b25170f"
      },
      "execution_count": null,
      "outputs": [
        {
          "output_type": "stream",
          "name": "stdout",
          "text": [
            "Accuracy with C=0.5: 0.96\n"
          ]
        }
      ]
    },
    {
      "cell_type": "code",
      "source": [
        "#18 Write a Python program to train Logistic Regression and identify important features based on model coefficients\n",
        "import pandas as pd\n",
        "import numpy as np\n",
        "from sklearn.datasets import load_breast_cancer\n",
        "from sklearn.linear_model import LogisticRegression\n",
        "from sklearn.model_selection import train_test_split\n",
        "\n",
        "# Step 1: Load dataset\n",
        "data = load_breast_cancer()\n",
        "X = pd.DataFrame(data.data, columns=data.feature_names)\n",
        "y = data.target\n",
        "\n",
        "# Step 2: Train-test split\n",
        "X_train, X_test, y_train, y_test = train_test_split(X, y, test_size=0.2, random_state=42)\n",
        "\n",
        "# Step 3: Train Logistic Regression model\n",
        "model = LogisticRegression(max_iter=10000, solver='liblinear')\n",
        "model.fit(X_train, y_train)\n",
        "\n",
        "# Step 4: Extract and sort feature importances\n",
        "coefficients = model.coef_[0]\n",
        "feature_importance = pd.DataFrame({\n",
        "    'Feature': X.columns,\n",
        "    'Coefficient': coefficients,\n",
        "    'Absolute Importance': np.abs(coefficients)\n",
        "}).sort_values(by='Absolute Importance', ascending=False)\n",
        "\n",
        "# Step 5: Display top important features\n",
        "print(\"Top Important Features in Logistic Regression:\\n\")\n",
        "print(feature_importance[['Feature', 'Coefficient']].head(10))\n"
      ],
      "metadata": {
        "colab": {
          "base_uri": "https://localhost:8080/"
        },
        "id": "o-Hd9bssPxEk",
        "outputId": "3fb87651-f92e-41ae-fc55-3b0381396798"
      },
      "execution_count": null,
      "outputs": [
        {
          "output_type": "stream",
          "name": "stdout",
          "text": [
            "Top Important Features in Logistic Regression:\n",
            "\n",
            "                 Feature  Coefficient\n",
            "0            mean radius     2.132484\n",
            "26       worst concavity    -1.617969\n",
            "11         texture error     1.442984\n",
            "20          worst radius     1.232150\n",
            "25     worst compactness    -1.208985\n",
            "28        worst symmetry    -0.742764\n",
            "6         mean concavity    -0.651940\n",
            "27  worst concave points    -0.615251\n",
            "5       mean compactness    -0.415569\n",
            "21         worst texture    -0.404581\n"
          ]
        }
      ]
    },
    {
      "cell_type": "code",
      "source": [
        "#19 Write a Python program to train Logistic Regression and evaluate its performance using Cohen’s Kappa Score\n",
        "from sklearn.datasets import load_breast_cancer\n",
        "from sklearn.linear_model import LogisticRegression\n",
        "from sklearn.model_selection import train_test_split\n",
        "from sklearn.metrics import cohen_kappa_score\n",
        "\n",
        "# Step 1: Load dataset\n",
        "data = load_breast_cancer()\n",
        "X = data.data\n",
        "y = data.target  # Binary: 0 = malignant, 1 = benign\n",
        "\n",
        "# Step 2: Train-test split\n",
        "X_train, X_test, y_train, y_test = train_test_split(X, y, test_size=0.2, random_state=42)\n",
        "\n",
        "# Step 3: Train Logistic Regression model\n",
        "model = LogisticRegression(solver='liblinear', max_iter=1000)\n",
        "model.fit(X_train, y_train)\n",
        "\n",
        "# Step 4: Predict and evaluate using Cohen's Kappa Score\n",
        "y_pred = model.predict(X_test)\n",
        "kappa_score = cohen_kappa_score(y_test, y_pred)\n",
        "\n",
        "# Step 5: Print result\n",
        "print(f\"Cohen's Kappa Score: {kappa_score:.2f}\")\n",
        "\n"
      ],
      "metadata": {
        "colab": {
          "base_uri": "https://localhost:8080/"
        },
        "id": "MvSe1tYxP7_f",
        "outputId": "16bb0fb7-a150-444b-f3a5-bfead224ff1a"
      },
      "execution_count": null,
      "outputs": [
        {
          "output_type": "stream",
          "name": "stdout",
          "text": [
            "Cohen's Kappa Score: 0.91\n"
          ]
        }
      ]
    },
    {
      "cell_type": "code",
      "source": [
        "#20 Write a Python program to train Logistic Regression and visualize the Precision-Recall Curve for binary classification\n",
        "import matplotlib.pyplot as plt\n",
        "from sklearn.datasets import load_breast_cancer\n",
        "from sklearn.linear_model import LogisticRegression\n",
        "from sklearn.model_selection import train_test_split\n",
        "from sklearn.metrics import precision_recall_curve, average_precision_score\n",
        "\n",
        "# Step 1: Load dataset\n",
        "data = load_breast_cancer()\n",
        "X = data.data\n",
        "y = data.target  # Binary: 0 = malignant, 1 = benign\n",
        "\n",
        "# Step 2: Split data\n",
        "X_train, X_test, y_train, y_test = train_test_split(X, y, test_size=0.2, random_state=42)\n",
        "\n",
        "# Step 3: Train Logistic Regression model\n",
        "model = LogisticRegression(solver='liblinear', max_iter=1000)\n",
        "model.fit(X_train, y_train)\n",
        "\n",
        "# Step 4: Predict probabilities\n",
        "y_scores = model.predict_proba(X_test)[:, 1]  # Probabilities for class 1\n",
        "\n",
        "# Step 5: Compute Precision-Recall values\n",
        "precision, recall, thresholds = precision_recall_curve(y_test, y_scores)\n",
        "avg_precision = average_precision_score(y_test, y_scores)\n",
        "\n",
        "# Step 6: Plot Precision-Recall Curve\n",
        "plt.figure(figsize=(6, 4))\n",
        "plt.plot(recall, precision, label=f'AP = {avg_precision:.2f}', color='purple')\n",
        "plt.xlabel('Recall')\n",
        "plt.ylabel('Precision')\n",
        "plt.title('Precision-Recall Curve')\n",
        "plt.legend()\n",
        "plt.grid(True)\n",
        "plt.tight_layout()\n",
        "plt.show()\n",
        "\n"
      ],
      "metadata": {
        "colab": {
          "base_uri": "https://localhost:8080/",
          "height": 407
        },
        "id": "AgSzYNjvQFkR",
        "outputId": "8f91e8e1-2ce7-4540-9eef-596851cb988d"
      },
      "execution_count": null,
      "outputs": [
        {
          "output_type": "display_data",
          "data": {
            "text/plain": [
              "<Figure size 600x400 with 1 Axes>"
            ],
            "image/png": "[encoded data removed]"
          },
          "metadata": {}
        }
      ]
    },
    {
      "cell_type": "code",
      "source": [
        "#21 Write a Python program to train Logistic Regression with different solvers (liblinear, saga, lbfgs) and compare their accuracy\n",
        "from sklearn.datasets import load_breast_cancer\n",
        "from sklearn.linear_model import LogisticRegression\n",
        "from sklearn.model_selection import train_test_split\n",
        "from sklearn.metrics import accuracy_score\n",
        "\n",
        "# Step 1: Load dataset\n",
        "data = load_breast_cancer()\n",
        "X = data.data\n",
        "y = data.target  # Binary classification: 0 = malignant, 1 = benign\n",
        "\n",
        "# Step 2: Train-test split\n",
        "X_train, X_test, y_train, y_test = train_test_split(X, y, test_size=0.2, random_state=42)\n",
        "\n",
        "# Step 3: Define solvers to test\n",
        "solvers = ['liblinear', 'lbfgs', 'saga']\n",
        "results = {}\n",
        "\n",
        "# Step 4: Train and evaluate for each solver\n",
        "for solver in solvers:\n",
        "    print(f\"\\nTraining Logistic Regression with solver = {solver}\")\n",
        "    model = LogisticRegression(solver=solver, max_iter=10000)\n",
        "    model.fit(X_train, y_train)\n",
        "    y_pred = model.predict(X_test)\n",
        "    accuracy = accuracy_score(y_test, y_pred)\n",
        "    results[solver] = accuracy\n",
        "    print(f\"Accuracy with {solver}: {accuracy:.2f}\")\n",
        "\n",
        "# Step 5: Summary\n",
        "print(\"\\n--- Solver Comparison Summary ---\")\n",
        "for solver, acc in results.items():\n",
        "    print(f\"{solver:10s} -> Accuracy: {acc:.2f}\")\n"
      ],
      "metadata": {
        "colab": {
          "base_uri": "https://localhost:8080/"
        },
        "id": "sCoJUKGlQQha",
        "outputId": "f1376e43-0503-4bf7-dfee-c79579cd6276"
      },
      "execution_count": null,
      "outputs": [
        {
          "output_type": "stream",
          "name": "stdout",
          "text": [
            "\n",
            "Training Logistic Regression with solver = liblinear\n",
            "Accuracy with liblinear: 0.96\n",
            "\n",
            "Training Logistic Regression with solver = lbfgs\n",
            "Accuracy with lbfgs: 0.96\n",
            "\n",
            "Training Logistic Regression with solver = saga\n",
            "Accuracy with saga: 0.97\n",
            "\n",
            "--- Solver Comparison Summary ---\n",
            "liblinear  -> Accuracy: 0.96\n",
            "lbfgs      -> Accuracy: 0.96\n",
            "saga       -> Accuracy: 0.97\n"
          ]
        }
      ]
    },
    {
      "cell_type": "code",
      "source": [
        "#22 Write a Python program to train Logistic Regression and evaluate its performance using Matthew Correlation Coefficient (MCC)\n",
        "from sklearn.datasets import load_breast_cancer\n",
        "from sklearn.linear_model import LogisticRegression\n",
        "from sklearn.model_selection import train_test_split\n",
        "from sklearn.metrics import matthews_corrcoef\n",
        "\n",
        "# Step 1: Load dataset\n",
        "data = load_breast_cancer()\n",
        "X = data.data\n",
        "y = data.target  # Binary classification: 0 = malignant, 1 = benign\n",
        "\n",
        "# Step 2: Train-test split\n",
        "X_train, X_test, y_train, y_test = train_test_split(X, y, test_size=0.2, random_state=42)\n",
        "\n",
        "# Step 3: Train Logistic Regression model\n",
        "model = LogisticRegression(solver='liblinear', max_iter=1000)\n",
        "model.fit(X_train, y_train)\n",
        "\n",
        "# Step 4: Predict and calculate MCC\n",
        "y_pred = model.predict(X_test)\n",
        "mcc_score = matthews_corrcoef(y_test, y_pred)\n",
        "\n",
        "# Step 5: Print MCC result\n",
        "print(f\"Matthews Correlation Coefficient (MCC): {mcc_score:.2f}\")\n"
      ],
      "metadata": {
        "colab": {
          "base_uri": "https://localhost:8080/"
        },
        "id": "pllhKj-uQaUG",
        "outputId": "46770f3b-5e86-4a20-84dd-f1527a31b6f7"
      },
      "execution_count": null,
      "outputs": [
        {
          "output_type": "stream",
          "name": "stdout",
          "text": [
            "Matthews Correlation Coefficient (MCC): 0.91\n"
          ]
        }
      ]
    },
    {
      "cell_type": "code",
      "source": [
        "#23 Write a Python program to train Logistic Regression on both raw and standardized data. Compare their accuracy to see the impact of feature scaling\n",
        "from sklearn.datasets import load_breast_cancer\n",
        "from sklearn.linear_model import LogisticRegression\n",
        "from sklearn.model_selection import train_test_split\n",
        "from sklearn.preprocessing import StandardScaler\n",
        "from sklearn.metrics import accuracy_score\n",
        "\n",
        "# Step 1: Load dataset\n",
        "data = load_breast_cancer()\n",
        "X = data.data\n",
        "y = data.target\n",
        "\n",
        "# Step 2: Split data into train and test sets\n",
        "X_train_raw, X_test_raw, y_train, y_test = train_test_split(X, y, test_size=0.2, random_state=42)\n",
        "\n",
        "# ---------- Train on Raw Data ----------\n",
        "model_raw = LogisticRegression(solver='liblinear', max_iter=1000)\n",
        "model_raw.fit(X_train_raw, y_train)\n",
        "y_pred_raw = model_raw.predict(X_test_raw)\n",
        "acc_raw = accuracy_score(y_test, y_pred_raw)\n",
        "\n",
        "# ---------- Apply Standardization ----------\n",
        "scaler = StandardScaler()\n",
        "X_train_scaled = scaler.fit_transform(X_train_raw)\n",
        "X_test_scaled = scaler.transform(X_test_raw)\n",
        "\n",
        "# ---------- Train on Standardized Data ----------\n",
        "model_scaled = LogisticRegression(solver='liblinear', max_iter=1000)\n",
        "model_scaled.fit(X_train_scaled, y_train)\n",
        "y_pred_scaled = model_scaled.predict(X_test_scaled)\n",
        "acc_scaled = accuracy_score(y_test, y_pred_scaled)\n",
        "\n",
        "# ---------- Results ----------\n",
        "print(f\"Accuracy on Raw Data        : {acc_raw:.2f}\")\n",
        "print(f\"Accuracy on Standardized Data: {acc_scaled:.2f}\")\n"
      ],
      "metadata": {
        "colab": {
          "base_uri": "https://localhost:8080/"
        },
        "id": "5r2etUpQQkJq",
        "outputId": "397f8311-73da-411f-8538-9e88fefcb413"
      },
      "execution_count": null,
      "outputs": [
        {
          "output_type": "stream",
          "name": "stdout",
          "text": [
            "Accuracy on Raw Data        : 0.96\n",
            "Accuracy on Standardized Data: 0.97\n"
          ]
        }
      ]
    },
    {
      "cell_type": "code",
      "source": [
        "#24 Write a Python program to train Logistic Regression and find the optimal C (regularization strength) using cross-validation\n",
        "from sklearn.datasets import load_breast_cancer\n",
        "from sklearn.linear_model import LogisticRegression\n",
        "from sklearn.model_selection import GridSearchCV, train_test_split\n",
        "from sklearn.metrics import accuracy_score\n",
        "\n",
        "# Step 1: Load dataset\n",
        "data = load_breast_cancer()\n",
        "X = data.data\n",
        "y = data.target\n",
        "\n",
        "# Step 2: Split into training and testing sets\n",
        "X_train, X_test, y_train, y_test = train_test_split(X, y, test_size=0.2, random_state=42)\n",
        "\n",
        "# Step 3: Define model and hyperparameter grid\n",
        "model = LogisticRegression(solver='liblinear', max_iter=1000)\n",
        "param_grid = {'C': [0.001, 0.01, 0.1, 1, 10, 100]}\n",
        "\n",
        "# Step 4: Apply GridSearchCV with cross-validation\n",
        "grid_search = GridSearchCV(estimator=model, param_grid=param_grid, cv=5, scoring='accuracy')\n",
        "grid_search.fit(X_train, y_train)\n",
        "\n",
        "# Step 5: Get best model and evaluate\n",
        "best_model = grid_search.best_estimator_\n",
        "y_pred = best_model.predict(X_test)\n",
        "accuracy = accuracy_score(y_test, y_pred)\n",
        "\n",
        "# Step 6: Print results\n",
        "print(f\"Best C value: {grid_search.best_params_['C']}\")\n",
        "print(f\"Accuracy with best C: {accuracy:.2f}\")\n"
      ],
      "metadata": {
        "colab": {
          "base_uri": "https://localhost:8080/"
        },
        "id": "g98thyNUQw-1",
        "outputId": "34fff025-231a-446b-97ec-0ba6abdb83bf"
      },
      "execution_count": null,
      "outputs": [
        {
          "output_type": "stream",
          "name": "stdout",
          "text": [
            "Best C value: 10\n",
            "Accuracy with best C: 0.96\n"
          ]
        }
      ]
    },
    {
      "cell_type": "code",
      "source": [
        "#25 Write a Python program to train Logistic Regression, save the trained model using joblib, and load it again to make predictions.\n",
        "import joblib\n",
        "from sklearn.datasets import load_breast_cancer\n",
        "from sklearn.linear_model import LogisticRegression\n",
        "from sklearn.model_selection import train_test_split\n",
        "from sklearn.metrics import accuracy_score\n",
        "\n",
        "# Step 1: Load dataset\n",
        "data = load_breast_cancer()\n",
        "X = data.data\n",
        "y = data.target\n",
        "\n",
        "# Step 2: Train-test split\n",
        "X_train, X_test, y_train, y_test = train_test_split(X, y, test_size=0.2, random_state=42)\n",
        "\n",
        "# Step 3: Train Logistic Regression model\n",
        "model = LogisticRegression(solver='liblinear', max_iter=1000)\n",
        "model.fit(X_train, y_train)\n",
        "\n",
        "# Step 4: Save the trained model to a file\n",
        "joblib.dump(model, 'logistic_model.pkl')\n",
        "print(\"Model saved as 'logistic_model.pkl'.\")\n",
        "\n",
        "# Step 5: Load the saved model\n",
        "loaded_model = joblib.load('logistic_model.pkl')\n",
        "print(\"Model loaded from file.\")\n",
        "\n",
        "# Step 6: Make predictions and evaluate\n",
        "y_pred = loaded_model.predict(X_test)\n",
        "accuracy = accuracy_score(y_test, y_pred)\n",
        "print(f\"Accuracy of loaded model: {accuracy:.2f}\")\n"
      ],
      "metadata": {
        "colab": {
          "base_uri": "https://localhost:8080/"
        },
        "id": "ddY1H0eEQ6Fg",
        "outputId": "4f1b0992-5a67-4a6b-e82c-0a5709dce737"
      },
      "execution_count": null,
      "outputs": [
        {
          "output_type": "stream",
          "name": "stdout",
          "text": [
            "Model saved as 'logistic_model.pkl'.\n",
            "Model loaded from file.\n",
            "Accuracy of loaded model: 0.96\n"
          ]
        }
      ]
    },
    {
      "cell_type": "code",
      "source": [],
      "metadata": {
        "id": "z4ucmtkyRC6_"
      },
      "execution_count": null,
      "outputs": []
    }
  ]
}